{
 "cells": [
  {
   "cell_type": "code",
   "execution_count": 1,
   "id": "620d1941-514a-4824-8ee8-07b5def64842",
   "metadata": {},
   "outputs": [],
   "source": [
    "import numpy as np\n",
    "import pymongo\n",
    "from sklearn.decomposition import NMF\n",
    "from sklearn.metrics import mean_squared_error, ndcg_score\n",
    "import pandas as pd\n",
    "from tqdm import tqdm\n",
    "import time\n",
    "import mlflow\n",
    "from final.model_processing import run_model, partition"
   ]
  },
  {
   "cell_type": "code",
   "execution_count": 2,
   "id": "fedb117d-805d-4169-8d9b-acebbbecef33",
   "metadata": {},
   "outputs": [],
   "source": [
    "# Define the model hyperparameters\n",
    "X = 18 # n_components\n",
    "Y = 150 # max_iter\n",
    "params = {\n",
    "    \"n_components\": X,\n",
    "    \"max_iter\": Y,\n",
    "}\n",
    "TAG = 'no filtres'"
   ]
  },
  {
   "cell_type": "code",
   "execution_count": 3,
   "id": "1bb2c4f7-7bbc-48ea-9d42-1db4ee3d5277",
   "metadata": {},
   "outputs": [],
   "source": [
    "#Define the thresholds under which we drop the movies\n",
    "MOVIES_SEUIL = 1 #en dessous de ce nombre de note on élimine le movie du dataset\n",
    "USERS_SEUIL = 1 #en dessous de ce nombre de note on élimine le user du dataset"
   ]
  },
  {
   "cell_type": "markdown",
   "id": "33e6987d-02a5-47e3-a703-57e1b8c1d49a",
   "metadata": {},
   "source": [
    "### Connexion à la db"
   ]
  },
  {
   "cell_type": "code",
   "execution_count": 4,
   "id": "5930c29f-81f9-43b1-a370-904b4048b9c9",
   "metadata": {},
   "outputs": [],
   "source": [
    "client = pymongo.MongoClient('localhost:27017')\n",
    "\n",
    "db = client['Movielens2']\n",
    "\n",
    "movies = db['movies']\n",
    "users = db['users']"
   ]
  },
  {
   "cell_type": "markdown",
   "id": "0f373d45-b37e-4169-b1fc-eb79bdadb38c",
   "metadata": {},
   "source": [
    "### Construire une liste à plat: user / movieid / rating / timestamp"
   ]
  },
  {
   "cell_type": "code",
   "execution_count": 5,
   "id": "2ab33527-ab8b-45c5-bd3d-dda4c2d85d87",
   "metadata": {},
   "outputs": [
    {
     "name": "stdout",
     "output_type": "stream",
     "text": [
      "   user_id  movie_id  rating  timestamp\n",
      "0     6040       573       4  956704056\n",
      "1     6040       589       4  956704996\n",
      "2     6040         1       3  957717358\n",
      "3     6040      2068       4  997453982\n",
      "4     6040       592       2  956716016\n"
     ]
    }
   ],
   "source": [
    "# Extraire les données de la collection\n",
    "data = list(users.find())\n",
    "\n",
    "# Créer une liste vide pour chaque colonne du DataFrame\n",
    "user_list = []\n",
    "movieid_list = []\n",
    "rating_list = []\n",
    "timestamp_list = []\n",
    "\n",
    "# Parcourir les données et extraire les informations nécessaires\n",
    "for entry in data:\n",
    "    user_id = entry['_id']\n",
    "    for movie in entry['movies']:\n",
    "        user_list.append(user_id)\n",
    "        movieid_list.append(movie['movieid'])\n",
    "        rating_list.append(movie['rating'])\n",
    "        timestamp_list.append(movie['timestamp'])\n",
    "\n",
    "# Créer le DataFrame\n",
    "df = pd.DataFrame({\n",
    "    'user_id': user_list,\n",
    "    'movie_id': movieid_list,\n",
    "    'rating': rating_list,\n",
    "    'timestamp': timestamp_list\n",
    "})\n",
    "\n",
    "# Afficher les premières lignes du DataFrame\n",
    "print(df.head())"
   ]
  },
  {
   "cell_type": "code",
   "execution_count": 6,
   "id": "d510e078-cbc9-4a4a-b596-3d17e6a5730a",
   "metadata": {},
   "outputs": [
    {
     "name": "stdout",
     "output_type": "stream",
     "text": [
      "Nombre de ratings par utilisateur\n",
      "count    6040.000000\n",
      "mean      165.597517\n",
      "std       192.747029\n",
      "min        20.000000\n",
      "25%        44.000000\n",
      "50%        96.000000\n",
      "75%       208.000000\n",
      "max      2314.000000\n",
      "Name: count, dtype: float64\n",
      "note moyenne par film\n",
      "count    3706.000000\n",
      "mean        3.238892\n",
      "std         0.672925\n",
      "min         1.000000\n",
      "25%         2.822705\n",
      "50%         3.331546\n",
      "75%         3.740741\n",
      "max         5.000000\n",
      "Name: rating, dtype: float64\n",
      "note moyenne par utilisateur\n",
      "count    6040.000000\n",
      "mean        3.702705\n",
      "std         0.429622\n",
      "min         1.015385\n",
      "25%         3.444444\n",
      "50%         3.735294\n",
      "75%         4.000000\n",
      "max         4.962963\n",
      "Name: rating, dtype: float64\n"
     ]
    }
   ],
   "source": [
    "#Number of ratings per user\n",
    "cusers_counts = df['user_id'].value_counts()\n",
    "print('Nombre de ratings par utilisateur')\n",
    "print(cusers_counts.describe())\n",
    "\n",
    "#Note moyenne par film\n",
    "mean_ratings = df.groupby('movie_id').rating.mean()\n",
    "print(\"note moyenne par film\")\n",
    "print(mean_ratings.describe())\n",
    "#Note moyenne par utilisateur\n",
    "mean_ratings = df.groupby('user_id').rating.mean()\n",
    "print(\"note moyenne par utilisateur\")\n",
    "print(mean_ratings.describe())"
   ]
  },
  {
   "cell_type": "code",
   "execution_count": 7,
   "id": "625efa80-9153-4e00-8599-9bea01c31986",
   "metadata": {},
   "outputs": [
    {
     "name": "stdout",
     "output_type": "stream",
     "text": [
      "Nombre de ratings par film\n"
     ]
    },
    {
     "data": {
      "text/plain": [
       "count    3706.000000\n",
       "mean      269.889099\n",
       "std       384.047838\n",
       "min         1.000000\n",
       "25%        33.000000\n",
       "50%       123.500000\n",
       "75%       350.000000\n",
       "max      3428.000000\n",
       "Name: count, dtype: float64"
      ]
     },
     "execution_count": 7,
     "metadata": {},
     "output_type": "execute_result"
    }
   ],
   "source": [
    "#Number of ratings per movie\n",
    "movies_counts = df['movie_id'].value_counts()\n",
    "print('Nombre de ratings par film')\n",
    "movies_counts.describe()"
   ]
  },
  {
   "cell_type": "code",
   "execution_count": 8,
   "id": "aa197dbb-7348-4d7e-b178-4e5297bf4b68",
   "metadata": {},
   "outputs": [],
   "source": [
    "#Drop movies with less than X ratings\n",
    "df = df[df['movie_id'].isin(movies_counts[movies_counts > MOVIES_SEUIL].index)]"
   ]
  },
  {
   "cell_type": "code",
   "execution_count": 9,
   "id": "dfb060bf-b401-4752-9414-9c00b2c1928f",
   "metadata": {},
   "outputs": [
    {
     "name": "stdout",
     "output_type": "stream",
     "text": [
      "Nouvelle taille de df : 992028\n"
     ]
    }
   ],
   "source": [
    "#Drop users with less than X ratings\n",
    "df = df[df['user_id'].isin(cusers_counts[cusers_counts > USERS_SEUIL].index)]\n",
    "\n",
    "#Garder que les utilisateurs ayant une moyenne de rating supérieure à 1.5 et inférieure à 4.5\n",
    "df = df.groupby('user_id').filter(lambda x : x['rating'].mean() > 1.5 and x['rating'].mean() < 4.5)\n",
    "\n",
    "print('Nouvelle taille de df :', len(df))"
   ]
  },
  {
   "cell_type": "markdown",
   "id": "7a652857-2ae0-4741-897f-340593330634",
   "metadata": {},
   "source": [
    "### Splitter les données en test et train"
   ]
  },
  {
   "cell_type": "code",
   "execution_count": 10,
   "id": "bdf9a1fd-9d34-4644-bf7d-afb5110bcff4",
   "metadata": {},
   "outputs": [
    {
     "data": {
      "text/plain": [
       "((793622, 4), (198406, 4))"
      ]
     },
     "execution_count": 10,
     "metadata": {},
     "output_type": "execute_result"
    }
   ],
   "source": [
    "df_train, df_test, train_mini, test_mini = partition(df)\n",
    "df_train.shape, df_test.shape"
   ]
  },
  {
   "cell_type": "markdown",
   "id": "d7bc1e0a-d9d4-4adb-b39e-b11ce2e7fb87",
   "metadata": {},
   "source": [
    "### un peu de détail sur df_train et df_test"
   ]
  },
  {
   "cell_type": "code",
   "execution_count": 11,
   "id": "f549e2a1-32ce-4f7b-b008-b82eb7affdaa",
   "metadata": {},
   "outputs": [
    {
     "name": "stdout",
     "output_type": "stream",
     "text": [
      "Nombre d'utilisateurs communs aux deux DataFrames : 5932\n",
      "Nombre d'utilisateurs dans le train mais pas dans le test : 5\n",
      "Nombre d'utilisateurs dans le test mais pas dans le train : 0\n"
     ]
    }
   ],
   "source": [
    "# Créer un ensemble d'utilisateurs pour chaque DataFrame\n",
    "users_train = set(df_train['user_id'])\n",
    "users_test = set(df_test['user_id'])\n",
    "\n",
    "# Trouver les utilisateurs communs\n",
    "users_common = users_train.intersection(users_test)\n",
    "\n",
    "# Convertir l'ensemble en liste si nécessaire\n",
    "users_common_list = list(users_common)\n",
    "print(\"Nombre d'utilisateurs communs aux deux DataFrames :\", len(users_common))\n",
    "\n",
    "# Calculer les utilisateurs dans le train mais pas dans le test\n",
    "users_train_not_in_test = users_train - users_test\n",
    "num_users_train_not_in_test = len(users_train_not_in_test)\n",
    "\n",
    "# Calculer les utilisateurs dans le test mais pas dans le train\n",
    "users_test_not_in_train = users_test - users_train\n",
    "num_users_test_not_in_train = len(users_test_not_in_train)\n",
    "\n",
    "print(\"Nombre d'utilisateurs dans le train mais pas dans le test :\", num_users_train_not_in_test)\n",
    "print(\"Nombre d'utilisateurs dans le test mais pas dans le train :\", num_users_test_not_in_train)"
   ]
  },
  {
   "cell_type": "code",
   "execution_count": 12,
   "id": "817e8566-4755-46dd-b726-1c9b50f9586b",
   "metadata": {},
   "outputs": [
    {
     "name": "stdout",
     "output_type": "stream",
     "text": [
      "Nombre de film communs aux deux DataFrames : 3424\n",
      "Nombre de movies dans le train mais pas dans le test : 165\n",
      "Nombre de movies  dans le test mais pas dans le train : 3\n"
     ]
    }
   ],
   "source": [
    "# Créer un ensemble de movies pour chaque DataFrame\n",
    "movies_train = set(df_train['movie_id'])\n",
    "movies_test = set(df_test['movie_id'])\n",
    "\n",
    "# Trouver les movies communs\n",
    "movies_common = movies_train.intersection(movies_test)\n",
    "\n",
    "# Convertir l'ensemble en liste si nécessaire\n",
    "movies_common_list = list(movies_common)\n",
    "print(\"Nombre de film communs aux deux DataFrames :\", len(movies_common))\n",
    "\n",
    "# Calculer les utilisateurs dans le train mais pas dans le test\n",
    "movies_train_not_in_test = movies_train - movies_test\n",
    "num_movies_train_not_in_test = len(movies_train_not_in_test)\n",
    "\n",
    "# Calculer les utilisateurs dans le test mais pas dans le train\n",
    "movies_train_not_in_train = movies_test - movies_train\n",
    "num_movies_test_not_in_train = len(movies_train_not_in_train)\n",
    "\n",
    "print(\"Nombre de movies dans le train mais pas dans le test :\", num_movies_train_not_in_test)\n",
    "print(\"Nombre de movies  dans le test mais pas dans le train :\", num_movies_test_not_in_train)"
   ]
  },
  {
   "cell_type": "markdown",
   "id": "dcc46af7-e2e1-436f-8884-d466ae6c7f98",
   "metadata": {},
   "source": [
    "### Clean des données (user et movie) de TEST qui ne sont pas inclus dans train"
   ]
  },
  {
   "cell_type": "code",
   "execution_count": 13,
   "id": "8f5c4003-2536-4f52-9f94-38adb1f75f40",
   "metadata": {},
   "outputs": [
    {
     "name": "stdout",
     "output_type": "stream",
     "text": [
      "        user_id  movie_id  rating  timestamp\n",
      "25334      5880      2797       2  959183085\n",
      "816053     1146      1480       2  974938637\n",
      "140254     5171      3654       4  961889611\n",
      "573365     2592      1947       3  973827611\n",
      "623621     2197      1196       5  974605842\n",
      "...         ...       ...     ...        ...\n",
      "738959     1597      2409       2  989847326\n",
      "498550     3081      2793       4  969801483\n",
      "240291     4514      1979       2  965959372\n",
      "413024     3586      1939       5  966691799\n",
      "773377     1376      2716       4  974767719\n",
      "\n",
      "[198400 rows x 4 columns]\n"
     ]
    }
   ],
   "source": [
    "# Filtrer les lignes de df_test pour lesquelles 'user' est dans users_common_list\n",
    "df_test_filtered_user = df_test[df_test['user_id'].isin(users_common_list)]\n",
    "\n",
    "# Filtrer les lignes de df_test pour lesquelles 'movies' est dans users_common_list\n",
    "df_test_filtered = df_test_filtered_user[df_test_filtered_user['movie_id'].isin(movies_common_list)]\n",
    "\n",
    "# Afficher le DataFrame filtré\n",
    "print(df_test_filtered)"
   ]
  },
  {
   "cell_type": "markdown",
   "id": "e58dd078-8c03-4ad9-81dd-3c4bf4a0cfa6",
   "metadata": {},
   "source": [
    "### Trouver l'utilisateur commun qui a vu le + de film dans le df_test"
   ]
  },
  {
   "cell_type": "code",
   "execution_count": 14,
   "id": "1c5f9ac2-0716-4781-ab84-dc7d05895dc3",
   "metadata": {},
   "outputs": [
    {
     "name": "stdout",
     "output_type": "stream",
     "text": [
      "L'utilisateur avec le plus grand nombre de films vus à la fois dans df_test et df_train est : 4169\n"
     ]
    }
   ],
   "source": [
    "# Compter le nombre de films vus par chaque utilisateur dans df_test\n",
    "films_vus_par_utilisateur_test = df_test.groupby('user_id')['movie_id'].count()\n",
    "\n",
    "# Compter le nombre de films vus par chaque utilisateur dans df_train\n",
    "films_vus_par_utilisateur_train = df_train.groupby('user_id')['movie_id'].count()\n",
    "\n",
    "# Filtrer les utilisateurs communs\n",
    "users_common_list_combined = list(set(films_vus_par_utilisateur_test.index) & set(films_vus_par_utilisateur_train.index))\n",
    "\n",
    "# Filtrer les films vus par les utilisateurs communs dans df_test\n",
    "films_vus_par_utilisateur_common_test = films_vus_par_utilisateur_test[users_common_list_combined]\n",
    "\n",
    "# Filtrer les films vus par les utilisateurs communs dans df_train\n",
    "films_vus_par_utilisateur_common_train = films_vus_par_utilisateur_train[users_common_list_combined]\n",
    "\n",
    "# Calculer le nombre total de films vus par chaque utilisateur dans les deux ensembles de données\n",
    "films_vus_par_utilisateur_combined = films_vus_par_utilisateur_common_test + films_vus_par_utilisateur_common_train\n",
    "\n",
    "# Trouver l'utilisateur avec le plus grand nombre de films vus\n",
    "utilisateur_max_films_vus_combined = films_vus_par_utilisateur_combined.idxmax()\n",
    "\n",
    "# Afficher l'utilisateur avec le plus grand nombre de films vus\n",
    "print(\"L'utilisateur avec le plus grand nombre de films vus à la fois dans df_test et df_train est :\", utilisateur_max_films_vus_combined)\n"
   ]
  },
  {
   "cell_type": "markdown",
   "id": "4792c433-e2f0-46e3-89b6-8e146cd16c49",
   "metadata": {},
   "source": [
    "### Entrainer le modele NMF et sortir une matrice complétée"
   ]
  },
  {
   "cell_type": "code",
   "execution_count": 15,
   "id": "a8a30b40-b88f-4f04-bf39-89f7f2f8c42e",
   "metadata": {
    "scrolled": true
   },
   "outputs": [
    {
     "name": "stderr",
     "output_type": "stream",
     "text": [
      "/home/pauline/miniconda3/envs/env_br08/lib/python3.11/site-packages/sklearn/decomposition/_nmf.py:1665: ConvergenceWarning: Maximum number of iterations 150 reached. Increase it to improve convergence.\n",
      "  warnings.warn(\n"
     ]
    },
    {
     "name": "stdout",
     "output_type": "stream",
     "text": [
      "Temps d'entraînement: 6.838233947753906 secondes\n"
     ]
    },
    {
     "data": {
      "text/plain": [
       "(NMF(max_iter=150, n_components=18),\n",
       " (21307893, 3),\n",
       " movie_id      1         2         3         4         5         6     \\\n",
       " user_id                                                                \n",
       " 1         4.500933  2.153153  1.068352  1.012719  1.077313  1.089707   \n",
       " 2         2.442313  1.409540  1.161869  1.098755  1.076142  1.938462   \n",
       " 3         4.406630  1.377603  1.018504  1.000000  1.010171  1.586816   \n",
       " 4         1.334737  1.001312  1.001195  1.005316  1.000000  1.372011   \n",
       " 5         1.642486  1.027321  1.000699  1.112665  1.005235  2.289019   \n",
       " ...            ...       ...       ...       ...       ...       ...   \n",
       " 6036      3.181588  1.965668  1.192056  1.362644  1.160362  2.193584   \n",
       " 6037      2.532465  1.068475  1.000870  1.009647  1.007358  1.132575   \n",
       " 6038      4.207695  1.410286  1.141741  1.061722  1.073444  1.216393   \n",
       " 6039      3.843330  1.795600  1.170931  1.072070  1.105743  1.032469   \n",
       " 6040      2.205729  1.045941  1.005305  1.115760  1.000000  1.373775   \n",
       " \n",
       " movie_id      7         8         9         10    ...      3943      3944  \\\n",
       " user_id                                           ...                       \n",
       " 1         1.062345  1.253900  1.002038  1.340972  ...  1.018678  1.007612   \n",
       " 2         1.424659  1.003511  1.174798  2.468530  ...  1.034601  1.002051   \n",
       " 3         1.004891  1.040007  1.089803  1.872835  ...  1.000961  1.000920   \n",
       " 4         1.000995  1.000000  1.000000  1.130227  ...  1.004605  1.000000   \n",
       " 5         1.005505  1.009641  1.001815  1.210479  ...  1.175465  1.000111   \n",
       " ...            ...       ...       ...       ...  ...       ...       ...   \n",
       " 6036      1.305448  1.124044  1.051842  1.596832  ...  1.273521  1.010472   \n",
       " 6037      1.010612  1.000717  1.003499  1.024500  ...  1.022716  1.007367   \n",
       " 6038      1.407342  1.081673  1.000000  1.191195  ...  1.000000  1.001662   \n",
       " 6039      1.475637  1.170862  1.000000  1.278030  ...  1.039799  1.021239   \n",
       " 6040      1.001863  1.000000  1.000000  1.080131  ...  1.128660  1.004953   \n",
       " \n",
       " movie_id      3945      3946      3947      3948      3949      3950  \\\n",
       " user_id                                                                \n",
       " 1         1.052808  1.019088  1.005425  1.340908  1.094917  1.019446   \n",
       " 2         1.002716  1.043667  1.016859  1.236550  1.137536  1.031666   \n",
       " 3         1.007817  1.013388  1.000279  1.285128  1.004881  1.000942   \n",
       " 4         1.000000  1.001126  1.002344  1.003722  1.014732  1.002999   \n",
       " 5         1.001067  1.016864  1.040742  1.148475  1.728410  1.044320   \n",
       " ...            ...       ...       ...       ...       ...       ...   \n",
       " 6036      1.024036  1.073597  1.177007  1.322154  1.880822  1.194318   \n",
       " 6037      1.000265  1.001293  1.063094  1.076579  1.028048  1.036572   \n",
       " 6038      1.016038  1.004110  1.002279  1.298587  1.000000  1.001962   \n",
       " 6039      1.033763  1.000000  1.146922  1.198974  1.000000  1.080173   \n",
       " 6040      1.000184  1.018873  1.065526  1.173395  1.424809  1.068903   \n",
       " \n",
       " movie_id      3951      3952  \n",
       " user_id                       \n",
       " 1         1.011871  1.130660  \n",
       " 2         1.025780  1.183529  \n",
       " 3         1.000611  1.006284  \n",
       " 4         1.003853  1.015304  \n",
       " 5         1.078871  1.320828  \n",
       " ...            ...       ...  \n",
       " 6036      1.191920  1.868561  \n",
       " 6037      1.001626  1.021009  \n",
       " 6038      1.000000  1.000000  \n",
       " 6039      1.000000  1.000000  \n",
       " 6040      1.083898  1.333246  \n",
       " \n",
       " [5937 rows x 3589 columns])"
      ]
     },
     "execution_count": 15,
     "metadata": {},
     "output_type": "execute_result"
    }
   ],
   "source": [
    "options = {\n",
    "    'n_components': X,\n",
    "    'max_iter': Y,\n",
    "    'normalize': {\n",
    "        'should': True,\n",
    "        'min': 1,\n",
    "        'max': 5}\n",
    "}\n",
    "\n",
    "# model, predict_matrix = run_model(train_df, options)\n",
    "start_time = time.time()\n",
    "\n",
    "model, df_depivoted, pred_matrix= run_model(df_train, options)\n",
    "\n",
    "\n",
    "# Fin du chronomètre\n",
    "end_time = time.time()\n",
    "\n",
    "# Calcul du temps écoulé en secondes\n",
    "training_time = end_time - start_time\n",
    "\n",
    "print(\"Temps d'entraînement:\", training_time, \"secondes\")\n",
    "model, df_depivoted.shape, pred_matrix"
   ]
  },
  {
   "cell_type": "markdown",
   "id": "1c34662b-5d33-4f71-ad94-bc1881d43162",
   "metadata": {},
   "source": [
    "### Obtenir une matrice de rating réél"
   ]
  },
  {
   "cell_type": "code",
   "execution_count": 16,
   "id": "e2c25034-97e8-401a-a587-0859f8615b6c",
   "metadata": {},
   "outputs": [],
   "source": [
    "mlflow.set_tracking_uri(uri=\"http://127.0.0.1:8080\")"
   ]
  },
  {
   "cell_type": "markdown",
   "id": "a7fc9d57-4fcb-40b1-8415-06a6c2d4e263",
   "metadata": {},
   "source": [
    "### Calculer les métriques"
   ]
  },
  {
   "cell_type": "code",
   "execution_count": 17,
   "id": "ac6bd922-d07e-4cc8-b028-ff236cb25c95",
   "metadata": {},
   "outputs": [
    {
     "name": "stderr",
     "output_type": "stream",
     "text": [
      "100%|██████████████████████████████████████████████████████████████████████████████| 5937/5937 [00:10<00:00, 561.95it/s]\n",
      "  3%|██▍                                                                            | 182/5932 [00:00<00:06, 930.65it/s]"
     ]
    },
    {
     "name": "stdout",
     "output_type": "stream",
     "text": [
      "l'utilisateur 21 a mis des notes égales\n",
      "l'utilisateur 152 a mis des notes égales\n"
     ]
    },
    {
     "name": "stderr",
     "output_type": "stream",
     "text": [
      "  7%|█████▏                                                                         | 388/5932 [00:00<00:05, 971.81it/s]"
     ]
    },
    {
     "name": "stdout",
     "output_type": "stream",
     "text": [
      "l'utilisateur 254 a mis des notes égales\n",
      "l'utilisateur 421 a mis des notes égales\n"
     ]
    },
    {
     "name": "stderr",
     "output_type": "stream",
     "text": [
      "  8%|██████▍                                                                        | 486/5932 [00:00<00:06, 897.46it/s]/home/pauline/miniconda3/envs/env_br08/lib/python3.11/site-packages/numpy/lib/function_base.py:2889: RuntimeWarning: Degrees of freedom <= 0 for slice\n",
      "  c = cov(x, y, rowvar, dtype=dtype)\n",
      "/home/pauline/miniconda3/envs/env_br08/lib/python3.11/site-packages/numpy/lib/function_base.py:2748: RuntimeWarning: divide by zero encountered in divide\n",
      "  c *= np.true_divide(1, fact)\n",
      "/home/pauline/miniconda3/envs/env_br08/lib/python3.11/site-packages/numpy/lib/function_base.py:2748: RuntimeWarning: invalid value encountered in multiply\n",
      "  c *= np.true_divide(1, fact)\n",
      " 10%|███████▊                                                                       | 584/5932 [00:00<00:05, 922.86it/s]"
     ]
    },
    {
     "name": "stdout",
     "output_type": "stream",
     "text": [
      "l'utilisateur 489 a mis des notes égales\n",
      "l'utilisateur 503 a mis des notes égales\n",
      "l'utilisateur 586 a mis des notes égales\n"
     ]
    },
    {
     "name": "stderr",
     "output_type": "stream",
     "text": [
      " 18%|█████████████▊                                                                | 1046/5932 [00:01<00:05, 822.62it/s]"
     ]
    },
    {
     "name": "stdout",
     "output_type": "stream",
     "text": [
      "l'utilisateur 932 a mis des notes égales\n",
      "l'utilisateur 942 a mis des notes égales\n",
      "l'utilisateur 994 a mis des notes égales\n",
      "l'utilisateur 997 a mis des notes égales\n"
     ]
    },
    {
     "name": "stderr",
     "output_type": "stream",
     "text": [
      " 27%|████████████████████▊                                                         | 1579/5932 [00:01<00:05, 868.33it/s]"
     ]
    },
    {
     "name": "stdout",
     "output_type": "stream",
     "text": [
      "l'utilisateur 1439 a mis des notes égales\n",
      "l'utilisateur 1549 a mis des notes égales\n"
     ]
    },
    {
     "name": "stderr",
     "output_type": "stream",
     "text": [
      " 32%|████████████████████████▊                                                     | 1891/5932 [00:02<00:04, 947.75it/s]"
     ]
    },
    {
     "name": "stdout",
     "output_type": "stream",
     "text": [
      "l'utilisateur 1730 a mis des notes égales\n",
      "l'utilisateur 1829 a mis des notes égales\n",
      "l'utilisateur 1914 a mis des notes égales\n"
     ]
    },
    {
     "name": "stderr",
     "output_type": "stream",
     "text": [
      " 37%|████████████████████████████▋                                                 | 2179/5932 [00:02<00:04, 855.63it/s]"
     ]
    },
    {
     "name": "stdout",
     "output_type": "stream",
     "text": [
      "l'utilisateur 2108 a mis des notes égales\n",
      "l'utilisateur 2128 a mis des notes égales\n"
     ]
    },
    {
     "name": "stderr",
     "output_type": "stream",
     "text": [
      " 40%|███████████████████████████████                                               | 2366/5932 [00:02<00:04, 876.89it/s]"
     ]
    },
    {
     "name": "stdout",
     "output_type": "stream",
     "text": [
      "l'utilisateur 2313 a mis des notes égales\n",
      "l'utilisateur 2474 a mis des notes égales\n"
     ]
    },
    {
     "name": "stderr",
     "output_type": "stream",
     "text": [
      " 45%|███████████████████████████████████▎                                          | 2686/5932 [00:03<00:03, 953.73it/s]"
     ]
    },
    {
     "name": "stdout",
     "output_type": "stream",
     "text": [
      "l'utilisateur 2543 a mis des notes égales\n",
      "l'utilisateur 2548 a mis des notes égales\n"
     ]
    },
    {
     "name": "stderr",
     "output_type": "stream",
     "text": [
      " 48%|█████████████████████████████████████▊                                        | 2871/5932 [00:03<00:03, 799.08it/s]"
     ]
    },
    {
     "name": "stdout",
     "output_type": "stream",
     "text": [
      "l'utilisateur 2819 a mis des notes égales\n",
      "l'utilisateur 2923 a mis des notes égales\n"
     ]
    },
    {
     "name": "stderr",
     "output_type": "stream",
     "text": [
      " 54%|██████████████████████████████████████████▍                                   | 3224/5932 [00:03<00:03, 843.85it/s]"
     ]
    },
    {
     "name": "stdout",
     "output_type": "stream",
     "text": [
      "l'utilisateur 3181 a mis des notes égales\n",
      "l'utilisateur 3273 a mis des notes égales\n",
      "l'utilisateur 3288 a mis des notes égales\n",
      "l'utilisateur 3316 a mis des notes égales\n",
      "l'utilisateur 3350 a mis des notes égales\n"
     ]
    },
    {
     "name": "stderr",
     "output_type": "stream",
     "text": [
      " 60%|███████████████████████████████████████████████                               | 3582/5932 [00:04<00:02, 814.21it/s]"
     ]
    },
    {
     "name": "stdout",
     "output_type": "stream",
     "text": [
      "l'utilisateur 3508 a mis des notes égales\n",
      "l'utilisateur 3623 a mis des notes égales\n"
     ]
    },
    {
     "name": "stderr",
     "output_type": "stream",
     "text": [
      " 65%|██████████████████████████████████████████████████▊                           | 3864/5932 [00:04<00:02, 874.26it/s]"
     ]
    },
    {
     "name": "stdout",
     "output_type": "stream",
     "text": [
      "l'utilisateur 3739 a mis des notes égales\n",
      "l'utilisateur 3897 a mis des notes égales\n",
      "l'utilisateur 3911 a mis des notes égales\n"
     ]
    },
    {
     "name": "stderr",
     "output_type": "stream",
     "text": [
      " 69%|██████████████████████████████████████████████████████▏                       | 4122/5932 [00:04<00:02, 817.30it/s]"
     ]
    },
    {
     "name": "stdout",
     "output_type": "stream",
     "text": [
      "l'utilisateur 4056 a mis des notes égales\n"
     ]
    },
    {
     "name": "stderr",
     "output_type": "stream",
     "text": [
      " 73%|████████████████████████████████████████████████████████▊                     | 4318/5932 [00:05<00:01, 905.32it/s]"
     ]
    },
    {
     "name": "stdout",
     "output_type": "stream",
     "text": [
      "l'utilisateur 4254 a mis des notes égales\n",
      "l'utilisateur 4266 a mis des notes égales\n",
      "l'utilisateur 4288 a mis des notes égales\n",
      "l'utilisateur 4372 a mis des notes égales\n",
      "l'utilisateur 4393 a mis des notes égales\n"
     ]
    },
    {
     "name": "stderr",
     "output_type": "stream",
     "text": [
      " 76%|███████████████████████████████████████████████████████████▍                  | 4520/5932 [00:05<00:01, 892.82it/s]"
     ]
    },
    {
     "name": "stdout",
     "output_type": "stream",
     "text": [
      "l'utilisateur 4504 a mis des notes égales\n",
      "l'utilisateur 4564 a mis des notes égales\n",
      "l'utilisateur 4594 a mis des notes égales\n"
     ]
    },
    {
     "name": "stderr",
     "output_type": "stream",
     "text": [
      " 80%|██████████████████████████████████████████████████████████████▋               | 4770/5932 [00:05<00:01, 743.42it/s]"
     ]
    },
    {
     "name": "stdout",
     "output_type": "stream",
     "text": [
      "l'utilisateur 4770 a mis des notes égales\n",
      "l'utilisateur 4776 a mis des notes égales\n"
     ]
    },
    {
     "name": "stderr",
     "output_type": "stream",
     "text": [
      " 83%|████████████████████████████████████████████████████████████████▋             | 4924/5932 [00:05<00:01, 715.09it/s]"
     ]
    },
    {
     "name": "stdout",
     "output_type": "stream",
     "text": [
      "l'utilisateur 4926 a mis des notes égales\n",
      "l'utilisateur 4996 a mis des notes égales\n"
     ]
    },
    {
     "name": "stderr",
     "output_type": "stream",
     "text": [
      " 89%|█████████████████████████████████████████████████████████████████████▍        | 5282/5932 [00:06<00:00, 799.56it/s]"
     ]
    },
    {
     "name": "stdout",
     "output_type": "stream",
     "text": [
      "l'utilisateur 5231 a mis des notes égales\n",
      "l'utilisateur 5304 a mis des notes égales\n",
      "l'utilisateur 5316 a mis des notes égales\n"
     ]
    },
    {
     "name": "stderr",
     "output_type": "stream",
     "text": [
      " 96%|██████████████████████████████████████████████████████████████████████████▌   | 5674/5932 [00:06<00:00, 951.94it/s]"
     ]
    },
    {
     "name": "stdout",
     "output_type": "stream",
     "text": [
      "l'utilisateur 5579 a mis des notes égales\n",
      "l'utilisateur 5666 a mis des notes égales\n",
      "l'utilisateur 5784 a mis des notes égales\n"
     ]
    },
    {
     "name": "stderr",
     "output_type": "stream",
     "text": [
      " 99%|█████████████████████████████████████████████████████████████████████████████ | 5861/5932 [00:06<00:00, 855.46it/s]"
     ]
    },
    {
     "name": "stdout",
     "output_type": "stream",
     "text": [
      "l'utilisateur 5873 a mis des notes égales\n",
      "l'utilisateur 5898 a mis des notes égales\n",
      "l'utilisateur 5944 a mis des notes égales\n",
      "l'utilisateur 5999 a mis des notes égales\n"
     ]
    },
    {
     "name": "stderr",
     "output_type": "stream",
     "text": [
      "100%|██████████████████████████████████████████████████████████████████████████████| 5932/5932 [00:07<00:00, 843.59it/s]\n",
      "100%|██████████████████████████████████████████████████████████████████████████████| 5937/5937 [00:13<00:00, 452.16it/s]\n",
      "  9%|███████▍                                                                       | 554/5932 [00:00<00:05, 912.41it/s]\n"
     ]
    },
    {
     "ename": "ValueError",
     "evalue": "Only ('multilabel-indicator', 'continuous-multioutput', 'multiclass-multioutput') formats are supported. Got binary instead",
     "output_type": "error",
     "traceback": [
      "\u001b[0;31m---------------------------------------------------------------------------\u001b[0m",
      "\u001b[0;31mValueError\u001b[0m                                Traceback (most recent call last)",
      "Cell \u001b[0;32mIn[17], line 44\u001b[0m\n\u001b[1;32m     42\u001b[0m \u001b[38;5;28;01mfor\u001b[39;00m u \u001b[38;5;129;01min\u001b[39;00m tqdm(df_compare_seen_movie_test[\u001b[38;5;124m'\u001b[39m\u001b[38;5;124muser_id\u001b[39m\u001b[38;5;124m'\u001b[39m]\u001b[38;5;241m.\u001b[39munique()):\n\u001b[1;32m     43\u001b[0m     section_user \u001b[38;5;241m=\u001b[39m df_compare_seen_movie_test[df_compare_seen_movie_test\u001b[38;5;241m.\u001b[39muser_id \u001b[38;5;241m==\u001b[39m u]\n\u001b[0;32m---> 44\u001b[0m     score \u001b[38;5;241m=\u001b[39m ndcg_score([section_user[\u001b[38;5;124m'\u001b[39m\u001b[38;5;124mrating\u001b[39m\u001b[38;5;124m'\u001b[39m]\u001b[38;5;241m.\u001b[39mvalues], [section_user[\u001b[38;5;124m'\u001b[39m\u001b[38;5;124mpredict\u001b[39m\u001b[38;5;124m'\u001b[39m]\u001b[38;5;241m.\u001b[39mvalues])\n\u001b[1;32m     45\u001b[0m     ndcg_score_test\u001b[38;5;241m.\u001b[39mappend(score)\n\u001b[1;32m     46\u001b[0m moy_ndcg_score_test \u001b[38;5;241m=\u001b[39m \u001b[38;5;28msum\u001b[39m(ndcg_score_test) \u001b[38;5;241m/\u001b[39m \u001b[38;5;28mlen\u001b[39m(ndcg_score_test)\n",
      "File \u001b[0;32m~/miniconda3/envs/env_br08/lib/python3.11/site-packages/sklearn/metrics/_ranking.py:1663\u001b[0m, in \u001b[0;36mndcg_score\u001b[0;34m(y_true, y_score, k, sample_weight, ignore_ties)\u001b[0m\n\u001b[1;32m   1656\u001b[0m \u001b[38;5;28;01mif\u001b[39;00m y_true\u001b[38;5;241m.\u001b[39mmin() \u001b[38;5;241m<\u001b[39m \u001b[38;5;241m0\u001b[39m:\n\u001b[1;32m   1657\u001b[0m     \u001b[38;5;66;03m# TODO(1.4): Replace warning w/ ValueError\u001b[39;00m\n\u001b[1;32m   1658\u001b[0m     warnings\u001b[38;5;241m.\u001b[39mwarn(\n\u001b[1;32m   1659\u001b[0m         \u001b[38;5;124m\"\u001b[39m\u001b[38;5;124mndcg_score should not be used on negative y_true values. ndcg_score will\u001b[39m\u001b[38;5;124m\"\u001b[39m\n\u001b[1;32m   1660\u001b[0m         \u001b[38;5;124m\"\u001b[39m\u001b[38;5;124m raise a ValueError on negative y_true values starting from version 1.4.\u001b[39m\u001b[38;5;124m\"\u001b[39m,\n\u001b[1;32m   1661\u001b[0m         \u001b[38;5;167;01mFutureWarning\u001b[39;00m,\n\u001b[1;32m   1662\u001b[0m     )\n\u001b[0;32m-> 1663\u001b[0m _check_dcg_target_type(y_true)\n\u001b[1;32m   1664\u001b[0m gain \u001b[38;5;241m=\u001b[39m _ndcg_sample_scores(y_true, y_score, k\u001b[38;5;241m=\u001b[39mk, ignore_ties\u001b[38;5;241m=\u001b[39mignore_ties)\n\u001b[1;32m   1665\u001b[0m \u001b[38;5;28;01mreturn\u001b[39;00m np\u001b[38;5;241m.\u001b[39maverage(gain, weights\u001b[38;5;241m=\u001b[39msample_weight)\n",
      "File \u001b[0;32m~/miniconda3/envs/env_br08/lib/python3.11/site-packages/sklearn/metrics/_ranking.py:1390\u001b[0m, in \u001b[0;36m_check_dcg_target_type\u001b[0;34m(y_true)\u001b[0m\n\u001b[1;32m   1384\u001b[0m supported_fmt \u001b[38;5;241m=\u001b[39m (\n\u001b[1;32m   1385\u001b[0m     \u001b[38;5;124m\"\u001b[39m\u001b[38;5;124mmultilabel-indicator\u001b[39m\u001b[38;5;124m\"\u001b[39m,\n\u001b[1;32m   1386\u001b[0m     \u001b[38;5;124m\"\u001b[39m\u001b[38;5;124mcontinuous-multioutput\u001b[39m\u001b[38;5;124m\"\u001b[39m,\n\u001b[1;32m   1387\u001b[0m     \u001b[38;5;124m\"\u001b[39m\u001b[38;5;124mmulticlass-multioutput\u001b[39m\u001b[38;5;124m\"\u001b[39m,\n\u001b[1;32m   1388\u001b[0m )\n\u001b[1;32m   1389\u001b[0m \u001b[38;5;28;01mif\u001b[39;00m y_type \u001b[38;5;129;01mnot\u001b[39;00m \u001b[38;5;129;01min\u001b[39;00m supported_fmt:\n\u001b[0;32m-> 1390\u001b[0m     \u001b[38;5;28;01mraise\u001b[39;00m \u001b[38;5;167;01mValueError\u001b[39;00m(\n\u001b[1;32m   1391\u001b[0m         \u001b[38;5;124m\"\u001b[39m\u001b[38;5;124mOnly \u001b[39m\u001b[38;5;132;01m{}\u001b[39;00m\u001b[38;5;124m formats are supported. Got \u001b[39m\u001b[38;5;132;01m{}\u001b[39;00m\u001b[38;5;124m instead\u001b[39m\u001b[38;5;124m\"\u001b[39m\u001b[38;5;241m.\u001b[39mformat(\n\u001b[1;32m   1392\u001b[0m             supported_fmt, y_type\n\u001b[1;32m   1393\u001b[0m         )\n\u001b[1;32m   1394\u001b[0m     )\n",
      "\u001b[0;31mValueError\u001b[0m: Only ('multilabel-indicator', 'continuous-multioutput', 'multiclass-multioutput') formats are supported. Got binary instead"
     ]
    }
   ],
   "source": [
    "# Calculate metrics\n",
    "df_compare_seen_movie_train = pd.merge(df_depivoted, df_train, how='inner', on=['user_id', 'movie_id'])\n",
    "df_compare_seen_movie_test = pd.merge(df_depivoted, df_test, how='inner', on=['user_id', 'movie_id'])\n",
    "\n",
    "#MSE et Root MSE\n",
    "\n",
    "mse = mean_squared_error(df_compare_seen_movie_train['rating'], df_compare_seen_movie_train['predict'])\n",
    "root_mse = np.sqrt(mse)\n",
    "\n",
    "mse_test = mean_squared_error(df_compare_seen_movie_test['rating'], df_compare_seen_movie_test['predict'])\n",
    "rmse_test = np.sqrt(mse_test)\n",
    "\n",
    "#Correlation de Pierson\n",
    "\n",
    "correlations_train = []\n",
    "for u in tqdm(df_compare_seen_movie_train['user_id'].unique()):\n",
    "    section_user = df_compare_seen_movie_train[df_compare_seen_movie_train.user_id == u]\n",
    "    correlation = section_user['predict'].corr(section_user['rating'], method='pearson')\n",
    "    correlations_train.append(correlation)\n",
    "moy_correlation = sum(correlations_train) / len(correlations_train)\n",
    "\n",
    "correlations_test = []\n",
    "for u in tqdm(df_compare_seen_movie_test['user_id'].unique()):\n",
    "    section_user = df_compare_seen_movie_test[df_compare_seen_movie_test.user_id == u]\n",
    "    if section_user['predict'].var() != 0 and section_user['rating'].var() != 0:\n",
    "        correlation = section_user['predict'].corr(section_user['rating'], method='pearson')\n",
    "        correlations_test.append(correlation)\n",
    "    else:\n",
    "        print(f\"l'utilisateur {u} a mis des notes égales\")\n",
    "moy_correlation_test = sum(correlations_test) / len(correlations_test)\n",
    "\n",
    "#Compute Normalized Discounted Cumulative Gain\n",
    "\n",
    "ndcg_score_train = []\n",
    "for u in tqdm(df_compare_seen_movie_train['user_id'].unique()):\n",
    "    section_user = df_compare_seen_movie_train[df_compare_seen_movie_train.user_id == u]\n",
    "    score = ndcg_score([section_user['rating'].values], [section_user['predict'].values])\n",
    "    ndcg_score_train.append(score)\n",
    "moy_ndcg_score_train = sum(ndcg_score_train) / len(ndcg_score_train)\n",
    "\n",
    "ndcg_score_test = []\n",
    "for u in tqdm(df_compare_seen_movie_test['user_id'].unique()):\n",
    "    section_user = df_compare_seen_movie_test[df_compare_seen_movie_test.user_id == u]\n",
    "    score = ndcg_score([section_user['rating'].values], [section_user['predict'].values])\n",
    "    ndcg_score_test.append(score)\n",
    "moy_ndcg_score_test = sum(ndcg_score_test) / len(ndcg_score_test)\n",
    "\n",
    "print('mse train:', mse)\n",
    "print('mse test:', mse_test)\n",
    "print('root_mse train:', root_mse)\n",
    "print('root_mse test:', rmse_test)\n",
    "print('moy_correlation train:', moy_correlation)\n",
    "print('moy_correlation test:', moy_correlation_test)\n",
    "print('ndcg_score train:', moy_ndcg_score_train)\n",
    "print('ndcg_score test:', moy_ndcg_score_test)"
   ]
  },
  {
   "cell_type": "markdown",
   "id": "af6005c6-b8ee-4b2f-bd58-c941a540ca74",
   "metadata": {},
   "source": [
    "### + Logger et enregistrer les modeles sur MLFlow"
   ]
  },
  {
   "cell_type": "code",
   "execution_count": null,
   "id": "1e37f5a3-3865-4886-8de9-800a84a4537d",
   "metadata": {
    "scrolled": true
   },
   "outputs": [],
   "source": [
    "# Create a new MLflow Experiment\n",
    "mlflow.set_experiment(\"MLflow Movielens\")\n",
    "\n",
    "# Start an MLflow run\n",
    "with mlflow.start_run():\n",
    "    # Log the hyperparameters\n",
    "    mlflow.log_params(params)\n",
    "\n",
    "    # Log the loss metric\n",
    "    mlflow.log_metric(\"mse_train\", mse)\n",
    "    mlflow.log_metric(\"mse_test\", mse_test)\n",
    "    mlflow.log_metric(\"root_mse_train\", root_mse )\n",
    "    mlflow.log_metric(\"root_mse_test\", rmse_test )\n",
    "    mlflow.log_metric(\"time_to_fit\", training_time)\n",
    "    mlflow.log_metric(\"correlation-train\", moy_correlation)\n",
    "    mlflow.log_metric(\"correlation-test\", moy_correlation_test)\n",
    "    mlflow.log_metric(\"ndcg_score train\", moy_ndcg_score_train)\n",
    "    mlflow.log_metric(\"ndcg_score test\", moy_ndcg_score_test)\n",
    "\n",
    "    # Set a tag that we can use to remind ourselves what this run was for\n",
    "    mlflow.set_tag(\"Training Info\", TAG)\n",
    "\n",
    "    # Infer the model signature\n",
    "    #signature = infer_signature(df_train, pred_matrix_train)\n",
    "\n",
    "    # Log the model\n",
    "    model_info = mlflow.sklearn.log_model(\n",
    "        sk_model=NMF,\n",
    "        artifact_path=\"nmf_model\",\n",
    "        signature=False,\n",
    "        input_example=df_train,\n",
    "        registered_model_name=f\"nmf {X} components \",\n",
    "    )"
   ]
  },
  {
   "cell_type": "code",
   "execution_count": null,
   "id": "833bc42e-499c-4649-8d5e-73fb74bd7d30",
   "metadata": {},
   "outputs": [],
   "source": [
    "# # Créer des tableaux NumPy à partir des DataFrames\n",
    "# array_to_filter = df_depivoted.to_numpy()\n",
    "# array_reference = df_train.to_numpy()[:, :2]  # Utiliser uniquement les colonnes 'user' et 'movieid' pour la référence\n",
    "# print(array_reference)\n",
    "# print(array_to_filter)"
   ]
  },
  {
   "cell_type": "code",
   "execution_count": null,
   "id": "4118f308-f2ec-4cf6-b706-3f0bf84888fc",
   "metadata": {},
   "outputs": [],
   "source": [
    "# # Trouver les index des lignes à supprimer\n",
    "# rows_to_remove = np.isin(array_to_filter[:, :2], array_reference, invert=True).any(axis=1)\n",
    "\n",
    "# # Supprimer les lignes du tableau à filtrer\n",
    "# filtered_array = array_to_filter[rows_to_remove]\n",
    "\n",
    "# # Convertir le tableau filtré en DataFrame si nécessaire\n",
    "# # df_predict = pd.DataFrame(filtered_array, columns=['user', 'movieid', 'rating'])"
   ]
  },
  {
   "cell_type": "code",
   "execution_count": null,
   "id": "23f5c960-d95a-442c-8fda-7bacd2765e94",
   "metadata": {},
   "outputs": [],
   "source": [
    "# df_predict_movie_not_seen_4169 = df_predict_movie_not_seen.loc[df_predict_movie_not_seen['user']== 4169].sort_values(by = ['predict'], ascending=False)\n",
    "# df_predict_movie_not_seen_4169"
   ]
  },
  {
   "cell_type": "code",
   "execution_count": null,
   "id": "5934a31b-700d-4620-9021-45baff558334",
   "metadata": {},
   "outputs": [],
   "source": [
    "# df_compare_not_seen_movie_4169 = pd.merge(df_predict_movie_not_seen_4169, df_test_filtered, how='inner', on=['user', 'movieid'])\n",
    "# df_compare_not_seen_movie_4169"
   ]
  },
  {
   "cell_type": "code",
   "execution_count": null,
   "id": "badcb69b-8576-4725-9504-3a617265e76e",
   "metadata": {},
   "outputs": [],
   "source": [
    "# df_compare_not_seen_movie_4169.sort_values(by = ['rating'], ascending=False)"
   ]
  }
 ],
 "metadata": {
  "kernelspec": {
   "display_name": "env_br08",
   "language": "python",
   "name": "env_br08"
  },
  "language_info": {
   "codemirror_mode": {
    "name": "ipython",
    "version": 3
   },
   "file_extension": ".py",
   "mimetype": "text/x-python",
   "name": "python",
   "nbconvert_exporter": "python",
   "pygments_lexer": "ipython3",
   "version": "3.11.7"
  }
 },
 "nbformat": 4,
 "nbformat_minor": 5
}
